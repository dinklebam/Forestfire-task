{
 "cells": [
  {
   "cell_type": "code",
   "execution_count": 1,
   "id": "58669a9c-06bf-4979-896f-0ae9dc5cb0fc",
   "metadata": {},
   "outputs": [],
   "source": [
    "import pandas as pd"
   ]
  },
  {
   "cell_type": "code",
   "execution_count": 2,
   "id": "c0f8c4bb-a568-4a5d-9735-1d1939d6e7b2",
   "metadata": {},
   "outputs": [],
   "source": [
    "data=pd.read_csv('train.csv')"
   ]
  },
  {
   "cell_type": "code",
   "execution_count": 3,
   "id": "4b37205c-adda-467d-bf18-19eeeab83c38",
   "metadata": {},
   "outputs": [
    {
     "data": {
      "text/html": [
       "<div>\n",
       "<style scoped>\n",
       "    .dataframe tbody tr th:only-of-type {\n",
       "        vertical-align: middle;\n",
       "    }\n",
       "\n",
       "    .dataframe tbody tr th {\n",
       "        vertical-align: top;\n",
       "    }\n",
       "\n",
       "    .dataframe thead th {\n",
       "        text-align: right;\n",
       "    }\n",
       "</style>\n",
       "<table border=\"1\" class=\"dataframe\">\n",
       "  <thead>\n",
       "    <tr style=\"text-align: right;\">\n",
       "      <th></th>\n",
       "      <th>id</th>\n",
       "      <th>latitude</th>\n",
       "      <th>longitude</th>\n",
       "      <th>brightness</th>\n",
       "      <th>scan</th>\n",
       "      <th>track</th>\n",
       "      <th>acq_date</th>\n",
       "      <th>acq_time</th>\n",
       "      <th>satellite</th>\n",
       "      <th>instrument</th>\n",
       "      <th>confidence</th>\n",
       "      <th>version</th>\n",
       "      <th>bright_t31</th>\n",
       "      <th>frp</th>\n",
       "      <th>daynight</th>\n",
       "    </tr>\n",
       "  </thead>\n",
       "  <tbody>\n",
       "    <tr>\n",
       "      <th>0</th>\n",
       "      <td>80378</td>\n",
       "      <td>-16.051</td>\n",
       "      <td>141.996</td>\n",
       "      <td>322.8</td>\n",
       "      <td>2.0</td>\n",
       "      <td>1.4</td>\n",
       "      <td>2019-12-03</td>\n",
       "      <td>1335</td>\n",
       "      <td>Terra</td>\n",
       "      <td>MODIS</td>\n",
       "      <td>100</td>\n",
       "      <td>6.0NRT</td>\n",
       "      <td>298.5</td>\n",
       "      <td>42.8</td>\n",
       "      <td>N</td>\n",
       "    </tr>\n",
       "    <tr>\n",
       "      <th>1</th>\n",
       "      <td>79962</td>\n",
       "      <td>-32.855</td>\n",
       "      <td>150.711</td>\n",
       "      <td>335.0</td>\n",
       "      <td>1.2</td>\n",
       "      <td>1.1</td>\n",
       "      <td>2019-12-03</td>\n",
       "      <td>405</td>\n",
       "      <td>Aqua</td>\n",
       "      <td>MODIS</td>\n",
       "      <td>84</td>\n",
       "      <td>6.0NRT</td>\n",
       "      <td>305.4</td>\n",
       "      <td>29.1</td>\n",
       "      <td>D</td>\n",
       "    </tr>\n",
       "    <tr>\n",
       "      <th>2</th>\n",
       "      <td>9680</td>\n",
       "      <td>-12.216</td>\n",
       "      <td>132.732</td>\n",
       "      <td>346.1</td>\n",
       "      <td>1.4</td>\n",
       "      <td>1.2</td>\n",
       "      <td>2019-10-12</td>\n",
       "      <td>435</td>\n",
       "      <td>Aqua</td>\n",
       "      <td>MODIS</td>\n",
       "      <td>90</td>\n",
       "      <td>6.0NRT</td>\n",
       "      <td>312.3</td>\n",
       "      <td>52.1</td>\n",
       "      <td>D</td>\n",
       "    </tr>\n",
       "    <tr>\n",
       "      <th>3</th>\n",
       "      <td>61999</td>\n",
       "      <td>-32.991</td>\n",
       "      <td>150.507</td>\n",
       "      <td>358.8</td>\n",
       "      <td>1.0</td>\n",
       "      <td>1.0</td>\n",
       "      <td>2019-11-19</td>\n",
       "      <td>350</td>\n",
       "      <td>Aqua</td>\n",
       "      <td>MODIS</td>\n",
       "      <td>99</td>\n",
       "      <td>6.0NRT</td>\n",
       "      <td>313.7</td>\n",
       "      <td>68.8</td>\n",
       "      <td>D</td>\n",
       "    </tr>\n",
       "    <tr>\n",
       "      <th>4</th>\n",
       "      <td>44632</td>\n",
       "      <td>-12.938</td>\n",
       "      <td>136.140</td>\n",
       "      <td>324.4</td>\n",
       "      <td>1.0</td>\n",
       "      <td>1.0</td>\n",
       "      <td>2019-11-10</td>\n",
       "      <td>1330</td>\n",
       "      <td>Terra</td>\n",
       "      <td>MODIS</td>\n",
       "      <td>100</td>\n",
       "      <td>6.0NRT</td>\n",
       "      <td>295.0</td>\n",
       "      <td>21.8</td>\n",
       "      <td>N</td>\n",
       "    </tr>\n",
       "    <tr>\n",
       "      <th>5</th>\n",
       "      <td>21929</td>\n",
       "      <td>-12.298</td>\n",
       "      <td>132.209</td>\n",
       "      <td>321.7</td>\n",
       "      <td>3.5</td>\n",
       "      <td>1.8</td>\n",
       "      <td>2019-10-23</td>\n",
       "      <td>415</td>\n",
       "      <td>Aqua</td>\n",
       "      <td>MODIS</td>\n",
       "      <td>19</td>\n",
       "      <td>6.0NRT</td>\n",
       "      <td>299.9</td>\n",
       "      <td>44.3</td>\n",
       "      <td>D</td>\n",
       "    </tr>\n",
       "    <tr>\n",
       "      <th>6</th>\n",
       "      <td>15356</td>\n",
       "      <td>-13.204</td>\n",
       "      <td>130.505</td>\n",
       "      <td>311.4</td>\n",
       "      <td>1.5</td>\n",
       "      <td>1.2</td>\n",
       "      <td>2019-10-18</td>\n",
       "      <td>1625</td>\n",
       "      <td>Aqua</td>\n",
       "      <td>MODIS</td>\n",
       "      <td>81</td>\n",
       "      <td>6.0NRT</td>\n",
       "      <td>294.4</td>\n",
       "      <td>17.9</td>\n",
       "      <td>N</td>\n",
       "    </tr>\n",
       "    <tr>\n",
       "      <th>7</th>\n",
       "      <td>103368</td>\n",
       "      <td>-32.661</td>\n",
       "      <td>120.226</td>\n",
       "      <td>310.8</td>\n",
       "      <td>3.5</td>\n",
       "      <td>1.8</td>\n",
       "      <td>2019-12-13</td>\n",
       "      <td>1405</td>\n",
       "      <td>Terra</td>\n",
       "      <td>MODIS</td>\n",
       "      <td>74</td>\n",
       "      <td>6.0NRT</td>\n",
       "      <td>294.2</td>\n",
       "      <td>54.9</td>\n",
       "      <td>N</td>\n",
       "    </tr>\n",
       "    <tr>\n",
       "      <th>8</th>\n",
       "      <td>21202</td>\n",
       "      <td>-14.122</td>\n",
       "      <td>127.063</td>\n",
       "      <td>308.7</td>\n",
       "      <td>2.3</td>\n",
       "      <td>1.5</td>\n",
       "      <td>2019-10-22</td>\n",
       "      <td>1435</td>\n",
       "      <td>Terra</td>\n",
       "      <td>MODIS</td>\n",
       "      <td>74</td>\n",
       "      <td>6.0NRT</td>\n",
       "      <td>294.9</td>\n",
       "      <td>23.0</td>\n",
       "      <td>N</td>\n",
       "    </tr>\n",
       "    <tr>\n",
       "      <th>9</th>\n",
       "      <td>34383</td>\n",
       "      <td>-28.299</td>\n",
       "      <td>152.587</td>\n",
       "      <td>309.2</td>\n",
       "      <td>1.4</td>\n",
       "      <td>1.2</td>\n",
       "      <td>2019-11-07</td>\n",
       "      <td>1250</td>\n",
       "      <td>Terra</td>\n",
       "      <td>MODIS</td>\n",
       "      <td>77</td>\n",
       "      <td>6.0NRT</td>\n",
       "      <td>291.7</td>\n",
       "      <td>14.7</td>\n",
       "      <td>N</td>\n",
       "    </tr>\n",
       "  </tbody>\n",
       "</table>\n",
       "</div>"
      ],
      "text/plain": [
       "       id  latitude  longitude  brightness  scan  track    acq_date  acq_time  \\\n",
       "0   80378   -16.051    141.996       322.8   2.0    1.4  2019-12-03      1335   \n",
       "1   79962   -32.855    150.711       335.0   1.2    1.1  2019-12-03       405   \n",
       "2    9680   -12.216    132.732       346.1   1.4    1.2  2019-10-12       435   \n",
       "3   61999   -32.991    150.507       358.8   1.0    1.0  2019-11-19       350   \n",
       "4   44632   -12.938    136.140       324.4   1.0    1.0  2019-11-10      1330   \n",
       "5   21929   -12.298    132.209       321.7   3.5    1.8  2019-10-23       415   \n",
       "6   15356   -13.204    130.505       311.4   1.5    1.2  2019-10-18      1625   \n",
       "7  103368   -32.661    120.226       310.8   3.5    1.8  2019-12-13      1405   \n",
       "8   21202   -14.122    127.063       308.7   2.3    1.5  2019-10-22      1435   \n",
       "9   34383   -28.299    152.587       309.2   1.4    1.2  2019-11-07      1250   \n",
       "\n",
       "  satellite instrument  confidence version  bright_t31   frp daynight  \n",
       "0     Terra      MODIS         100  6.0NRT       298.5  42.8        N  \n",
       "1      Aqua      MODIS          84  6.0NRT       305.4  29.1        D  \n",
       "2      Aqua      MODIS          90  6.0NRT       312.3  52.1        D  \n",
       "3      Aqua      MODIS          99  6.0NRT       313.7  68.8        D  \n",
       "4     Terra      MODIS         100  6.0NRT       295.0  21.8        N  \n",
       "5      Aqua      MODIS          19  6.0NRT       299.9  44.3        D  \n",
       "6      Aqua      MODIS          81  6.0NRT       294.4  17.9        N  \n",
       "7     Terra      MODIS          74  6.0NRT       294.2  54.9        N  \n",
       "8     Terra      MODIS          74  6.0NRT       294.9  23.0        N  \n",
       "9     Terra      MODIS          77  6.0NRT       291.7  14.7        N  "
      ]
     },
     "execution_count": 3,
     "metadata": {},
     "output_type": "execute_result"
    }
   ],
   "source": [
    "data.head(10)"
   ]
  },
  {
   "cell_type": "code",
   "execution_count": 4,
   "id": "edb73c99-0236-4e65-90ed-9cdfbc95b9cd",
   "metadata": {},
   "outputs": [
    {
     "data": {
      "text/plain": [
       "id              int64\n",
       "latitude      float64\n",
       "longitude     float64\n",
       "brightness    float64\n",
       "scan          float64\n",
       "track         float64\n",
       "acq_date       object\n",
       "acq_time        int64\n",
       "satellite      object\n",
       "instrument     object\n",
       "confidence      int64\n",
       "version        object\n",
       "bright_t31    float64\n",
       "frp           float64\n",
       "daynight       object\n",
       "dtype: object"
      ]
     },
     "execution_count": 4,
     "metadata": {},
     "output_type": "execute_result"
    }
   ],
   "source": [
    "data.dtypes"
   ]
  },
  {
   "cell_type": "code",
   "execution_count": 5,
   "id": "ce8734e5-a19a-47ea-b172-a4756a4bf2d6",
   "metadata": {},
   "outputs": [],
   "source": [
    "missing=data.isnull().any().any()"
   ]
  },
  {
   "cell_type": "code",
   "execution_count": 6,
   "id": "2ac7333f-5c37-4242-aad6-0ebb27009d6c",
   "metadata": {},
   "outputs": [],
   "source": [
    "missing\n",
    "data=data.drop(['acq_date'],axis=1)"
   ]
  },
  {
   "cell_type": "code",
   "execution_count": 7,
   "id": "76797300-a9bc-41c1-a550-88e2ab457054",
   "metadata": {},
   "outputs": [],
   "source": [
    "import matplotlib.pyplot as plt\n",
    "import seaborn as sns"
   ]
  },
  {
   "cell_type": "code",
   "execution_count": 8,
   "id": "697343bd-f8ad-4887-ab58-0c1412ffc195",
   "metadata": {},
   "outputs": [],
   "source": [
    "from sklearn.preprocessing import LabelEncoder\n",
    "le=LabelEncoder()\n",
    "label_encoders={}\n",
    "df_coded=data.copy()\n",
    "categorical_features = ['satellite', 'instrument', 'version', 'daynight']\n",
    "for features in categorical_features:\n",
    "    le=LabelEncoder()\n",
    "    df_coded[features]=le.fit_transform(df_coded[features])"
   ]
  },
  {
   "cell_type": "code",
   "execution_count": 9,
   "id": "60a1ea7a-b061-4d25-ab21-c6f504156149",
   "metadata": {},
   "outputs": [],
   "source": [
    "label_encoders[features]=le"
   ]
  },
  {
   "cell_type": "code",
   "execution_count": 10,
   "id": "d3418658-2815-4e16-97f8-212a92d5881a",
   "metadata": {},
   "outputs": [
    {
     "name": "stderr",
     "output_type": "stream",
     "text": [
      "C:\\Users\\youca\\anaconda3\\Lib\\site-packages\\seaborn\\matrix.py:260: FutureWarning: Format strings passed to MaskedConstant are ignored, but in future may error or produce different behavior\n",
      "  annotation = (\"{:\" + self.fmt + \"}\").format(val)\n"
     ]
    },
    {
     "data": {
      "image/png": "[encoded data removed]",
      "text/plain": [
       "<Figure size 1200x800 with 2 Axes>"
      ]
     },
     "metadata": {},
     "output_type": "display_data"
    }
   ],
   "source": [
    "plt.figure(figsize=(12,8))\n",
    "sns.heatmap(df_coded.corr(),annot=True,fmt='.2f',cmap='coolwarm')\n",
    "plt.show()"
   ]
  },
  {
   "cell_type": "code",
   "execution_count": 11,
   "id": "830e2757-c2a4-4b90-a15e-d73faa32416f",
   "metadata": {},
   "outputs": [],
   "source": [
    "y=data['confidence']"
   ]
  },
  {
   "cell_type": "code",
   "execution_count": 12,
   "id": "915489a5-42f8-4d4a-a579-36c638bb6cfb",
   "metadata": {},
   "outputs": [],
   "source": [
    "X=data.drop(['instrument','version','scan','confidence'],axis=1)"
   ]
  },
  {
   "cell_type": "code",
   "execution_count": 13,
   "id": "37ca499e-e6d7-4dd5-91b2-2889b642a7f9",
   "metadata": {},
   "outputs": [],
   "source": [
    "X.satellite=X.satellite.map({'Terra':1,'Aqua':2})\n",
    "X.daynight=X.daynight.map({'D':1,'N':2})"
   ]
  },
  {
   "cell_type": "code",
   "execution_count": 14,
   "id": "7f847281-2f3e-48ec-b53f-d7b80e2bf59d",
   "metadata": {},
   "outputs": [],
   "source": [
    "from sklearn.ensemble import RandomForestRegressor\n",
    "model=RandomForestRegressor(n_estimators=50)"
   ]
  },
  {
   "cell_type": "code",
   "execution_count": 15,
   "id": "372a0108-e49c-4111-89a0-d23e362aa7e5",
   "metadata": {},
   "outputs": [
    {
     "data": {
      "text/html": [
       "<style>#sk-container-id-1 {color: black;background-color: white;}#sk-container-id-1 pre{padding: 0;}#sk-container-id-1 div.sk-toggleable {background-color: white;}#sk-container-id-1 label.sk-toggleable__label {cursor: pointer;display: block;width: 100%;margin-bottom: 0;padding: 0.3em;box-sizing: border-box;text-align: center;}#sk-container-id-1 label.sk-toggleable__label-arrow:before {content: \"▸\";float: left;margin-right: 0.25em;color: #696969;}#sk-container-id-1 label.sk-toggleable__label-arrow:hover:before {color: black;}#sk-container-id-1 div.sk-estimator:hover label.sk-toggleable__label-arrow:before {color: black;}#sk-container-id-1 div.sk-toggleable__content {max-height: 0;max-width: 0;overflow: hidden;text-align: left;background-color: #f0f8ff;}#sk-container-id-1 div.sk-toggleable__content pre {margin: 0.2em;color: black;border-radius: 0.25em;background-color: #f0f8ff;}#sk-container-id-1 input.sk-toggleable__control:checked~div.sk-toggleable__content {max-height: 200px;max-width: 100%;overflow: auto;}#sk-container-id-1 input.sk-toggleable__control:checked~label.sk-toggleable__label-arrow:before {content: \"▾\";}#sk-container-id-1 div.sk-estimator input.sk-toggleable__control:checked~label.sk-toggleable__label {background-color: #d4ebff;}#sk-container-id-1 div.sk-label input.sk-toggleable__control:checked~label.sk-toggleable__label {background-color: #d4ebff;}#sk-container-id-1 input.sk-hidden--visually {border: 0;clip: rect(1px 1px 1px 1px);clip: rect(1px, 1px, 1px, 1px);height: 1px;margin: -1px;overflow: hidden;padding: 0;position: absolute;width: 1px;}#sk-container-id-1 div.sk-estimator {font-family: monospace;background-color: #f0f8ff;border: 1px dotted black;border-radius: 0.25em;box-sizing: border-box;margin-bottom: 0.5em;}#sk-container-id-1 div.sk-estimator:hover {background-color: #d4ebff;}#sk-container-id-1 div.sk-parallel-item::after {content: \"\";width: 100%;border-bottom: 1px solid gray;flex-grow: 1;}#sk-container-id-1 div.sk-label:hover label.sk-toggleable__label {background-color: #d4ebff;}#sk-container-id-1 div.sk-serial::before {content: \"\";position: absolute;border-left: 1px solid gray;box-sizing: border-box;top: 0;bottom: 0;left: 50%;z-index: 0;}#sk-container-id-1 div.sk-serial {display: flex;flex-direction: column;align-items: center;background-color: white;padding-right: 0.2em;padding-left: 0.2em;position: relative;}#sk-container-id-1 div.sk-item {position: relative;z-index: 1;}#sk-container-id-1 div.sk-parallel {display: flex;align-items: stretch;justify-content: center;background-color: white;position: relative;}#sk-container-id-1 div.sk-item::before, #sk-container-id-1 div.sk-parallel-item::before {content: \"\";position: absolute;border-left: 1px solid gray;box-sizing: border-box;top: 0;bottom: 0;left: 50%;z-index: -1;}#sk-container-id-1 div.sk-parallel-item {display: flex;flex-direction: column;z-index: 1;position: relative;background-color: white;}#sk-container-id-1 div.sk-parallel-item:first-child::after {align-self: flex-end;width: 50%;}#sk-container-id-1 div.sk-parallel-item:last-child::after {align-self: flex-start;width: 50%;}#sk-container-id-1 div.sk-parallel-item:only-child::after {width: 0;}#sk-container-id-1 div.sk-dashed-wrapped {border: 1px dashed gray;margin: 0 0.4em 0.5em 0.4em;box-sizing: border-box;padding-bottom: 0.4em;background-color: white;}#sk-container-id-1 div.sk-label label {font-family: monospace;font-weight: bold;display: inline-block;line-height: 1.2em;}#sk-container-id-1 div.sk-label-container {text-align: center;}#sk-container-id-1 div.sk-container {/* jupyter's `normalize.less` sets `[hidden] { display: none; }` but bootstrap.min.css set `[hidden] { display: none !important; }` so we also need the `!important` here to be able to override the default hidden behavior on the sphinx rendered scikit-learn.org. See: https://github.com/scikit-learn/scikit-learn/issues/21755 */display: inline-block !important;position: relative;}#sk-container-id-1 div.sk-text-repr-fallback {display: none;}</style><div id=\"sk-container-id-1\" class=\"sk-top-container\"><div class=\"sk-text-repr-fallback\"><pre>RandomForestRegressor(n_estimators=50)</pre><b>In a Jupyter environment, please rerun this cell to show the HTML representation or trust the notebook. <br />On GitHub, the HTML representation is unable to render, please try loading this page with nbviewer.org.</b></div><div class=\"sk-container\" hidden><div class=\"sk-item\"><div class=\"sk-estimator sk-toggleable\"><input class=\"sk-toggleable__control sk-hidden--visually\" id=\"sk-estimator-id-1\" type=\"checkbox\" checked><label for=\"sk-estimator-id-1\" class=\"sk-toggleable__label sk-toggleable__label-arrow\">RandomForestRegressor</label><div class=\"sk-toggleable__content\"><pre>RandomForestRegressor(n_estimators=50)</pre></div></div></div></div></div>"
      ],
      "text/plain": [
       "RandomForestRegressor(n_estimators=50)"
      ]
     },
     "execution_count": 15,
     "metadata": {},
     "output_type": "execute_result"
    }
   ],
   "source": [
    "model.fit(X,y)"
   ]
  },
  {
   "cell_type": "code",
   "execution_count": 17,
   "id": "4ee9ef25-84f0-47fb-8344-7096e917c18a",
   "metadata": {},
   "outputs": [],
   "source": [
    "X_test=pd.read_csv('test.csv')\n",
    "X_test.satellite=X_test.satellite.map({'Terra':1,'Aqua':2})\n",
    "X_test.daynight=X_test.daynight.map({'D':1,'N':2})\n",
    "X_test=X_test.drop(['acq_date','instrument','scan','version'],axis=1)"
   ]
  },
  {
   "cell_type": "code",
   "execution_count": 18,
   "id": "371b4169-6259-4b64-b374-a408ff9a3373",
   "metadata": {},
   "outputs": [],
   "source": [
    "confidence=model.predict(X_test)"
   ]
  },
  {
   "cell_type": "code",
   "execution_count": 19,
   "id": "7e6b3df5-07c2-4fe9-bdeb-a74c47c16a2f",
   "metadata": {},
   "outputs": [],
   "source": [
    "ID=X_test['id']"
   ]
  },
  {
   "cell_type": "code",
   "execution_count": 20,
   "id": "a8ffa3a7-29aa-4a89-a94b-3057658ed6cc",
   "metadata": {},
   "outputs": [],
   "source": [
    "dataf={'id':ID,'confidence':confidence}\n",
    "\n",
    "da=pd.DataFrame(dataf)"
   ]
  },
  {
   "cell_type": "code",
   "execution_count": 21,
   "id": "5834e90f-0b1f-40b3-be9b-5dddea6ad18b",
   "metadata": {},
   "outputs": [],
   "source": [
    "da.to_csv('outputfinal5.csv',index=False)"
   ]
  },
  {
   "cell_type": "code",
   "execution_count": null,
   "id": "79263c16-3382-4e29-bda4-7cc2a434840f",
   "metadata": {},
   "outputs": [],
   "source": []
  }
 ],
 "metadata": {
  "kernelspec": {
   "display_name": "Python 3 (ipykernel)",
   "language": "python",
   "name": "python3"
  },
  "language_info": {
   "codemirror_mode": {
    "name": "ipython",
    "version": 3
   },
   "file_extension": ".py",
   "mimetype": "text/x-python",
   "name": "python",
   "nbconvert_exporter": "python",
   "pygments_lexer": "ipython3",
   "version": "3.11.7"
  }
 },
 "nbformat": 4,
 "nbformat_minor": 5
}
